{
 "cells": [
  {
   "cell_type": "code",
   "execution_count": 1,
   "metadata": {},
   "outputs": [
    {
     "name": "stdout",
     "output_type": "stream",
     "text": [
      "2.7.13 |Anaconda custom (64-bit)| (default, May 11 2017, 13:17:26) [MSC v.1500 64 bit (AMD64)]\n"
     ]
    }
   ],
   "source": [
    "##### This is a tutorial on Pandas under Python 2.7 #####\n",
    "##### updated 07.28.2017 #####\n",
    "import sys\n",
    "print sys.version"
   ]
  },
  {
   "cell_type": "code",
   "execution_count": 2,
   "metadata": {},
   "outputs": [
    {
     "name": "stdout",
     "output_type": "stream",
     "text": [
      "2.7.13\n"
     ]
    }
   ],
   "source": [
    "import platform\n",
    "print platform.python_version()"
   ]
  },
  {
   "cell_type": "code",
   "execution_count": 4,
   "metadata": {},
   "outputs": [
    {
     "name": "stdout",
     "output_type": "stream",
     "text": [
      "0.20.1\n"
     ]
    }
   ],
   "source": [
    "import pandas as pd\n",
    "print pd.__version__"
   ]
  },
  {
   "cell_type": "code",
   "execution_count": 9,
   "metadata": {},
   "outputs": [
    {
     "name": "stdout",
     "output_type": "stream",
     "text": [
      "{'Score': [90, 85, 100], 'Name': ['aaa', 'bbb', 'ccc'], 'ID': [1, 2, 3]}\n"
     ]
    }
   ],
   "source": [
    "## Let's start!\n",
    "# Q1. How to create a pandas data frame?\n",
    "\n",
    "#example 1: from Python dict\n",
    "math_class_result = {}\n",
    "math_class_result['Name'] = ['aaa', 'bbb', 'ccc']\n",
    "math_class_result['ID'] = [1, 2, 3]\n",
    "math_class_result['Score'] = [90, 85, 100]\n",
    "print math_class_result"
   ]
  },
  {
   "cell_type": "code",
   "execution_count": 10,
   "metadata": {},
   "outputs": [
    {
     "name": "stdout",
     "output_type": "stream",
     "text": [
      "   ID Name  Score\n",
      "0   1  aaa     90\n",
      "1   2  bbb     85\n",
      "2   3  ccc    100\n"
     ]
    }
   ],
   "source": [
    "# Convert dict to pandas data frame\n",
    "math_class_result_df = pd.DataFrame.from_dict(math_class_result)\n",
    "print math_class_result_df"
   ]
  },
  {
   "cell_type": "code",
   "execution_count": 11,
   "metadata": {},
   "outputs": [
    {
     "name": "stdout",
     "output_type": "stream",
     "text": [
      "   Name  Score\n",
      "ID            \n",
      "1   aaa     90\n",
      "2   bbb     85\n",
      "3   ccc    100\n"
     ]
    }
   ],
   "source": [
    "# set column ID as index\n",
    "math_class_result_df = math_class_result_df.set_index('ID')\n",
    "print math_class_result_df"
   ]
  },
  {
   "cell_type": "code",
   "execution_count": 12,
   "metadata": {},
   "outputs": [
    {
     "name": "stdout",
     "output_type": "stream",
     "text": [
      "   Name  Score  Age\n",
      "ID                 \n",
      "1   aaa     90   16\n",
      "2   bbb     85   16\n",
      "3   ccc    100   16\n"
     ]
    }
   ],
   "source": [
    "# add a new column \"age\"\n",
    "math_class_result_df['Age'] = 16\n",
    "print math_class_result_df"
   ]
  },
  {
   "cell_type": "code",
   "execution_count": 13,
   "metadata": {},
   "outputs": [
    {
     "name": "stdout",
     "output_type": "stream",
     "text": [
      "   Name  Math score  Age\n",
      "ID                      \n",
      "1   aaa          90   16\n",
      "2   bbb          85   16\n",
      "3   ccc         100   16\n"
     ]
    }
   ],
   "source": [
    "# change column \"score\" to \"math score\"\n",
    "math_class_result_df = math_class_result_df.rename(columns={'Score': 'Math score'})\n",
    "print math_class_result_df"
   ]
  },
  {
   "cell_type": "code",
   "execution_count": 15,
   "metadata": {},
   "outputs": [
    {
     "name": "stdout",
     "output_type": "stream",
     "text": [
      "   Name  Math score  Age\n",
      "ID                      \n",
      "2   bbb          85   16\n",
      "1   aaa          90   16\n",
      "3   ccc         100   16\n"
     ]
    }
   ],
   "source": [
    "# sort record by math score\n",
    "math_class_result_df = math_class_result_df.sort_values(['Math score'], ascending=[1])\n",
    "print math_class_result_df"
   ]
  },
  {
   "cell_type": "code",
   "execution_count": 18,
   "metadata": {},
   "outputs": [
    {
     "data": {
      "image/png": "[encoded data removed]",
      "text/plain": [
       "<matplotlib.figure.Figure at 0x3eb1d68>"
      ]
     },
     "metadata": {},
     "output_type": "display_data"
    }
   ],
   "source": [
    "# Let's create a bar plot!\n",
    "import matplotlib.pyplot as plt\n",
    "math_class_result_df['Math score'].plot(kind = 'bar')\n",
    "plt.show()"
   ]
  },
  {
   "cell_type": "code",
   "execution_count": 19,
   "metadata": {},
   "outputs": [
    {
     "data": {
      "image/png": "[encoded data removed]",
      "text/plain": [
       "<matplotlib.figure.Figure at 0x37fbbe0>"
      ]
     },
     "metadata": {},
     "output_type": "display_data"
    }
   ],
   "source": [
    "# don't like the plot style? Let's solve it!\n",
    "plt.style.use('ggplot')\n",
    "math_class_result_df['Math score'].plot(kind = 'bar')\n",
    "plt.show()"
   ]
  },
  {
   "cell_type": "code",
   "execution_count": 23,
   "metadata": {},
   "outputs": [
    {
     "data": {
      "image/png": "[encoded data removed]",
      "text/plain": [
       "<matplotlib.figure.Figure at 0xa3f79b0>"
      ]
     },
     "metadata": {},
     "output_type": "display_data"
    }
   ],
   "source": [
    "# Add some features for our plot\n",
    "math_class_result_df['Math score'].plot(kind = 'bar')\n",
    "plt.xlabel('ID')\n",
    "plt.ylabel('Math score')\n",
    "plt.title('Math exam result')\n",
    "plt.xticks(rotation=0)\n",
    "plt.show()"
   ]
  },
  {
   "cell_type": "code",
   "execution_count": null,
   "metadata": {
    "collapsed": true
   },
   "outputs": [],
   "source": []
  }
 ],
 "metadata": {
  "kernelspec": {
   "display_name": "Python [conda root]",
   "language": "python",
   "name": "conda-root-py"
  },
  "language_info": {
   "codemirror_mode": {
    "name": "ipython",
    "version": 2
   },
   "file_extension": ".py",
   "mimetype": "text/x-python",
   "name": "python",
   "nbconvert_exporter": "python",
   "pygments_lexer": "ipython2",
   "version": "2.7.13"
  }
 },
 "nbformat": 4,
 "nbformat_minor": 2
}
